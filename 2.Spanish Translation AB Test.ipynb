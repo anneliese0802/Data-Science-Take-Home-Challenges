{
 "cells": [
  {
   "cell_type": "markdown",
   "metadata": {},
   "source": [
    "# Spanish Translation A/B Test\n",
    "A data scientist at XYZ noticed that Spain-based users have a much higher conversion rate than any other Spanish-speaking country.\n",
    "One reason could be translation. \n",
    "The team ran the A/B test where each country would have its one translation written by a local.\n",
    "The result is surprised that the non-localized translation was doing better.\n",
    "\n",
    "You are asked to:\n",
    "1. Confirm that the test is actually negative. That is, it appears that the old version of the\n",
    "site with just one translation across Spain and LatAm performs better\n",
    "2. Explain why that might be happening. Are the localized translations really worse?\n",
    "3. If you identified what was wrong, design an algorithm that would return FALSE if the\n",
    "same problem is happening in the future and TRUE if everything is good and the results\n",
    "can be trusted"
   ]
  },
  {
   "cell_type": "markdown",
   "metadata": {},
   "source": [
    "### Load Data"
   ]
  },
  {
   "cell_type": "code",
   "execution_count": 73,
   "metadata": {},
   "outputs": [],
   "source": [
    "import pandas as pd\n",
    "import numpy as np\n",
    "import matplotlib.pyplot as plt \n",
    "from sklearn.linear_model import LogisticRegression\n",
    "from sklearn.cross_validation import train_test_split\n",
    "import warnings # current version of seaborn generates a bunch of warnings that we'll ignore\n",
    "warnings.filterwarnings(\"ignore\")\n",
    "import seaborn as sns\n",
    "import matplotlib.pyplot as plt\n",
    "sns.set(style=\"white\", color_codes=True)"
   ]
  },
  {
   "cell_type": "code",
   "execution_count": 84,
   "metadata": {},
   "outputs": [],
   "source": [
    "user_table=pd.read_csv('C:/Users/blanc/Desktop/Take Home Challenge/Dataset/Translation_Test/user_table.csv')\n",
    "test_table=pd.read_csv('C:/Users/blanc/Desktop/Take Home Challenge/Dataset/Translation_Test/test_table.csv')"
   ]
  },
  {
   "cell_type": "code",
   "execution_count": 12,
   "metadata": {},
   "outputs": [
    {
     "data": {
      "text/html": [
       "<div>\n",
       "<style scoped>\n",
       "    .dataframe tbody tr th:only-of-type {\n",
       "        vertical-align: middle;\n",
       "    }\n",
       "\n",
       "    .dataframe tbody tr th {\n",
       "        vertical-align: top;\n",
       "    }\n",
       "\n",
       "    .dataframe thead th {\n",
       "        text-align: right;\n",
       "    }\n",
       "</style>\n",
       "<table border=\"1\" class=\"dataframe\">\n",
       "  <thead>\n",
       "    <tr style=\"text-align: right;\">\n",
       "      <th></th>\n",
       "      <th>user_id</th>\n",
       "      <th>sex</th>\n",
       "      <th>age</th>\n",
       "      <th>country</th>\n",
       "    </tr>\n",
       "  </thead>\n",
       "  <tbody>\n",
       "    <tr>\n",
       "      <th>0</th>\n",
       "      <td>765821</td>\n",
       "      <td>M</td>\n",
       "      <td>20</td>\n",
       "      <td>Mexico</td>\n",
       "    </tr>\n",
       "    <tr>\n",
       "      <th>1</th>\n",
       "      <td>343561</td>\n",
       "      <td>F</td>\n",
       "      <td>27</td>\n",
       "      <td>Nicaragua</td>\n",
       "    </tr>\n",
       "    <tr>\n",
       "      <th>2</th>\n",
       "      <td>118744</td>\n",
       "      <td>M</td>\n",
       "      <td>23</td>\n",
       "      <td>Colombia</td>\n",
       "    </tr>\n",
       "    <tr>\n",
       "      <th>3</th>\n",
       "      <td>987753</td>\n",
       "      <td>F</td>\n",
       "      <td>27</td>\n",
       "      <td>Venezuela</td>\n",
       "    </tr>\n",
       "    <tr>\n",
       "      <th>4</th>\n",
       "      <td>554597</td>\n",
       "      <td>F</td>\n",
       "      <td>20</td>\n",
       "      <td>Spain</td>\n",
       "    </tr>\n",
       "  </tbody>\n",
       "</table>\n",
       "</div>"
      ],
      "text/plain": [
       "   user_id sex  age    country\n",
       "0   765821   M   20     Mexico\n",
       "1   343561   F   27  Nicaragua\n",
       "2   118744   M   23   Colombia\n",
       "3   987753   F   27  Venezuela\n",
       "4   554597   F   20      Spain"
      ]
     },
     "execution_count": 12,
     "metadata": {},
     "output_type": "execute_result"
    }
   ],
   "source": [
    "user_table.head()"
   ]
  },
  {
   "cell_type": "code",
   "execution_count": 13,
   "metadata": {},
   "outputs": [
    {
     "data": {
      "text/html": [
       "<div>\n",
       "<style scoped>\n",
       "    .dataframe tbody tr th:only-of-type {\n",
       "        vertical-align: middle;\n",
       "    }\n",
       "\n",
       "    .dataframe tbody tr th {\n",
       "        vertical-align: top;\n",
       "    }\n",
       "\n",
       "    .dataframe thead th {\n",
       "        text-align: right;\n",
       "    }\n",
       "</style>\n",
       "<table border=\"1\" class=\"dataframe\">\n",
       "  <thead>\n",
       "    <tr style=\"text-align: right;\">\n",
       "      <th></th>\n",
       "      <th>user_id</th>\n",
       "      <th>date</th>\n",
       "      <th>source</th>\n",
       "      <th>device</th>\n",
       "      <th>browser_language</th>\n",
       "      <th>ads_channel</th>\n",
       "      <th>browser</th>\n",
       "      <th>conversion</th>\n",
       "      <th>test</th>\n",
       "    </tr>\n",
       "  </thead>\n",
       "  <tbody>\n",
       "    <tr>\n",
       "      <th>0</th>\n",
       "      <td>315281</td>\n",
       "      <td>2015-12-03</td>\n",
       "      <td>Direct</td>\n",
       "      <td>Web</td>\n",
       "      <td>ES</td>\n",
       "      <td>NaN</td>\n",
       "      <td>IE</td>\n",
       "      <td>1</td>\n",
       "      <td>0</td>\n",
       "    </tr>\n",
       "    <tr>\n",
       "      <th>1</th>\n",
       "      <td>497851</td>\n",
       "      <td>2015-12-04</td>\n",
       "      <td>Ads</td>\n",
       "      <td>Web</td>\n",
       "      <td>ES</td>\n",
       "      <td>Google</td>\n",
       "      <td>IE</td>\n",
       "      <td>0</td>\n",
       "      <td>1</td>\n",
       "    </tr>\n",
       "    <tr>\n",
       "      <th>2</th>\n",
       "      <td>848402</td>\n",
       "      <td>2015-12-04</td>\n",
       "      <td>Ads</td>\n",
       "      <td>Web</td>\n",
       "      <td>ES</td>\n",
       "      <td>Facebook</td>\n",
       "      <td>Chrome</td>\n",
       "      <td>0</td>\n",
       "      <td>0</td>\n",
       "    </tr>\n",
       "    <tr>\n",
       "      <th>3</th>\n",
       "      <td>290051</td>\n",
       "      <td>2015-12-03</td>\n",
       "      <td>Ads</td>\n",
       "      <td>Mobile</td>\n",
       "      <td>Other</td>\n",
       "      <td>Facebook</td>\n",
       "      <td>Android_App</td>\n",
       "      <td>0</td>\n",
       "      <td>1</td>\n",
       "    </tr>\n",
       "    <tr>\n",
       "      <th>4</th>\n",
       "      <td>548435</td>\n",
       "      <td>2015-11-30</td>\n",
       "      <td>Ads</td>\n",
       "      <td>Web</td>\n",
       "      <td>ES</td>\n",
       "      <td>Google</td>\n",
       "      <td>FireFox</td>\n",
       "      <td>0</td>\n",
       "      <td>1</td>\n",
       "    </tr>\n",
       "  </tbody>\n",
       "</table>\n",
       "</div>"
      ],
      "text/plain": [
       "   user_id        date  source  device browser_language ads_channel  \\\n",
       "0   315281  2015-12-03  Direct     Web               ES         NaN   \n",
       "1   497851  2015-12-04     Ads     Web               ES      Google   \n",
       "2   848402  2015-12-04     Ads     Web               ES    Facebook   \n",
       "3   290051  2015-12-03     Ads  Mobile            Other    Facebook   \n",
       "4   548435  2015-11-30     Ads     Web               ES      Google   \n",
       "\n",
       "       browser  conversion  test  \n",
       "0           IE           1     0  \n",
       "1           IE           0     1  \n",
       "2       Chrome           0     0  \n",
       "3  Android_App           0     1  \n",
       "4      FireFox           0     1  "
      ]
     },
     "execution_count": 13,
     "metadata": {},
     "output_type": "execute_result"
    }
   ],
   "source": [
    "test_table.head()"
   ]
  },
  {
   "cell_type": "code",
   "execution_count": 146,
   "metadata": {},
   "outputs": [
    {
     "data": {
      "text/html": [
       "<div>\n",
       "<style scoped>\n",
       "    .dataframe tbody tr th:only-of-type {\n",
       "        vertical-align: middle;\n",
       "    }\n",
       "\n",
       "    .dataframe tbody tr th {\n",
       "        vertical-align: top;\n",
       "    }\n",
       "\n",
       "    .dataframe thead th {\n",
       "        text-align: right;\n",
       "    }\n",
       "</style>\n",
       "<table border=\"1\" class=\"dataframe\">\n",
       "  <thead>\n",
       "    <tr style=\"text-align: right;\">\n",
       "      <th></th>\n",
       "      <th>user_id</th>\n",
       "      <th>conversion</th>\n",
       "      <th>test</th>\n",
       "    </tr>\n",
       "  </thead>\n",
       "  <tbody>\n",
       "    <tr>\n",
       "      <th>count</th>\n",
       "      <td>453321.000000</td>\n",
       "      <td>453321.000000</td>\n",
       "      <td>453321.000000</td>\n",
       "    </tr>\n",
       "    <tr>\n",
       "      <th>mean</th>\n",
       "      <td>499937.514728</td>\n",
       "      <td>0.049579</td>\n",
       "      <td>0.476446</td>\n",
       "    </tr>\n",
       "    <tr>\n",
       "      <th>std</th>\n",
       "      <td>288665.193436</td>\n",
       "      <td>0.217073</td>\n",
       "      <td>0.499445</td>\n",
       "    </tr>\n",
       "    <tr>\n",
       "      <th>min</th>\n",
       "      <td>1.000000</td>\n",
       "      <td>0.000000</td>\n",
       "      <td>0.000000</td>\n",
       "    </tr>\n",
       "    <tr>\n",
       "      <th>25%</th>\n",
       "      <td>249816.000000</td>\n",
       "      <td>0.000000</td>\n",
       "      <td>0.000000</td>\n",
       "    </tr>\n",
       "    <tr>\n",
       "      <th>50%</th>\n",
       "      <td>500019.000000</td>\n",
       "      <td>0.000000</td>\n",
       "      <td>0.000000</td>\n",
       "    </tr>\n",
       "    <tr>\n",
       "      <th>75%</th>\n",
       "      <td>749522.000000</td>\n",
       "      <td>0.000000</td>\n",
       "      <td>1.000000</td>\n",
       "    </tr>\n",
       "    <tr>\n",
       "      <th>max</th>\n",
       "      <td>1000000.000000</td>\n",
       "      <td>1.000000</td>\n",
       "      <td>1.000000</td>\n",
       "    </tr>\n",
       "  </tbody>\n",
       "</table>\n",
       "</div>"
      ],
      "text/plain": [
       "              user_id     conversion           test\n",
       "count   453321.000000  453321.000000  453321.000000\n",
       "mean    499937.514728       0.049579       0.476446\n",
       "std     288665.193436       0.217073       0.499445\n",
       "min          1.000000       0.000000       0.000000\n",
       "25%     249816.000000       0.000000       0.000000\n",
       "50%     500019.000000       0.000000       0.000000\n",
       "75%     749522.000000       0.000000       1.000000\n",
       "max    1000000.000000       1.000000       1.000000"
      ]
     },
     "execution_count": 146,
     "metadata": {},
     "output_type": "execute_result"
    }
   ],
   "source": [
    "test_table.describe()"
   ]
  },
  {
   "cell_type": "markdown",
   "metadata": {},
   "source": [
    "Check the uniqueness of test and user tables"
   ]
  },
  {
   "cell_type": "code",
   "execution_count": 155,
   "metadata": {},
   "outputs": [
    {
     "name": "stdout",
     "output_type": "stream",
     "text": [
      "Test ID:\t 453321 \t True\n",
      "User ID:\t 452867 \t True\n"
     ]
    }
   ],
   "source": [
    "# Check uniqueness\n",
    "print('Test ID:\\t', len(test_table['user_id'].unique()), '\\t', len(test_table['user_id'].unique()) == len(test_table))\n",
    "print('User ID:\\t', len(user_table['user_id'].unique()), '\\t', len(user_table['user_id'].unique()) == len(user_table))"
   ]
  },
  {
   "cell_type": "markdown",
   "metadata": {},
   "source": [
    "From the length of two tables, we can find that we have some user_id missing in the user_table.\n",
    "\n",
    "When joining, we have to be\n",
    "careful to do not lose the user_ids in the test table, but not in the user table."
   ]
  },
  {
   "cell_type": "code",
   "execution_count": 160,
   "metadata": {},
   "outputs": [
    {
     "data": {
      "text/html": [
       "<div>\n",
       "<style scoped>\n",
       "    .dataframe tbody tr th:only-of-type {\n",
       "        vertical-align: middle;\n",
       "    }\n",
       "\n",
       "    .dataframe tbody tr th {\n",
       "        vertical-align: top;\n",
       "    }\n",
       "\n",
       "    .dataframe thead th {\n",
       "        text-align: right;\n",
       "    }\n",
       "</style>\n",
       "<table border=\"1\" class=\"dataframe\">\n",
       "  <thead>\n",
       "    <tr style=\"text-align: right;\">\n",
       "      <th></th>\n",
       "      <th>user_id</th>\n",
       "      <th>date</th>\n",
       "      <th>source</th>\n",
       "      <th>device</th>\n",
       "      <th>browser_language</th>\n",
       "      <th>ads_channel</th>\n",
       "      <th>browser</th>\n",
       "      <th>conversion</th>\n",
       "      <th>test</th>\n",
       "      <th>sex</th>\n",
       "      <th>age</th>\n",
       "      <th>country</th>\n",
       "    </tr>\n",
       "  </thead>\n",
       "  <tbody>\n",
       "    <tr>\n",
       "      <th>0</th>\n",
       "      <td>315281</td>\n",
       "      <td>2015-12-03</td>\n",
       "      <td>Direct</td>\n",
       "      <td>Web</td>\n",
       "      <td>ES</td>\n",
       "      <td>NaN</td>\n",
       "      <td>IE</td>\n",
       "      <td>1</td>\n",
       "      <td>0</td>\n",
       "      <td>M</td>\n",
       "      <td>32.0</td>\n",
       "      <td>Spain</td>\n",
       "    </tr>\n",
       "    <tr>\n",
       "      <th>1</th>\n",
       "      <td>497851</td>\n",
       "      <td>2015-12-04</td>\n",
       "      <td>Ads</td>\n",
       "      <td>Web</td>\n",
       "      <td>ES</td>\n",
       "      <td>Google</td>\n",
       "      <td>IE</td>\n",
       "      <td>0</td>\n",
       "      <td>1</td>\n",
       "      <td>M</td>\n",
       "      <td>21.0</td>\n",
       "      <td>Mexico</td>\n",
       "    </tr>\n",
       "    <tr>\n",
       "      <th>2</th>\n",
       "      <td>848402</td>\n",
       "      <td>2015-12-04</td>\n",
       "      <td>Ads</td>\n",
       "      <td>Web</td>\n",
       "      <td>ES</td>\n",
       "      <td>Facebook</td>\n",
       "      <td>Chrome</td>\n",
       "      <td>0</td>\n",
       "      <td>0</td>\n",
       "      <td>M</td>\n",
       "      <td>34.0</td>\n",
       "      <td>Spain</td>\n",
       "    </tr>\n",
       "    <tr>\n",
       "      <th>3</th>\n",
       "      <td>290051</td>\n",
       "      <td>2015-12-03</td>\n",
       "      <td>Ads</td>\n",
       "      <td>Mobile</td>\n",
       "      <td>Other</td>\n",
       "      <td>Facebook</td>\n",
       "      <td>Android_App</td>\n",
       "      <td>0</td>\n",
       "      <td>1</td>\n",
       "      <td>F</td>\n",
       "      <td>22.0</td>\n",
       "      <td>Mexico</td>\n",
       "    </tr>\n",
       "    <tr>\n",
       "      <th>4</th>\n",
       "      <td>548435</td>\n",
       "      <td>2015-11-30</td>\n",
       "      <td>Ads</td>\n",
       "      <td>Web</td>\n",
       "      <td>ES</td>\n",
       "      <td>Google</td>\n",
       "      <td>FireFox</td>\n",
       "      <td>0</td>\n",
       "      <td>1</td>\n",
       "      <td>M</td>\n",
       "      <td>19.0</td>\n",
       "      <td>Mexico</td>\n",
       "    </tr>\n",
       "  </tbody>\n",
       "</table>\n",
       "</div>"
      ],
      "text/plain": [
       "   user_id        date  source  device browser_language ads_channel  \\\n",
       "0   315281  2015-12-03  Direct     Web               ES         NaN   \n",
       "1   497851  2015-12-04     Ads     Web               ES      Google   \n",
       "2   848402  2015-12-04     Ads     Web               ES    Facebook   \n",
       "3   290051  2015-12-03     Ads  Mobile            Other    Facebook   \n",
       "4   548435  2015-11-30     Ads     Web               ES      Google   \n",
       "\n",
       "       browser  conversion  test sex   age country  \n",
       "0           IE           1     0   M  32.0   Spain  \n",
       "1           IE           0     1   M  21.0  Mexico  \n",
       "2       Chrome           0     0   M  34.0   Spain  \n",
       "3  Android_App           0     1   F  22.0  Mexico  \n",
       "4      FireFox           0     1   M  19.0  Mexico  "
      ]
     },
     "execution_count": 160,
     "metadata": {},
     "output_type": "execute_result"
    }
   ],
   "source": [
    "data=test_table.merge(user_table,how='left',on='user_id')\n",
    "data.head()"
   ]
  },
  {
   "cell_type": "code",
   "execution_count": 161,
   "metadata": {},
   "outputs": [
    {
     "data": {
      "text/html": [
       "<div>\n",
       "<style scoped>\n",
       "    .dataframe tbody tr th:only-of-type {\n",
       "        vertical-align: middle;\n",
       "    }\n",
       "\n",
       "    .dataframe tbody tr th {\n",
       "        vertical-align: top;\n",
       "    }\n",
       "\n",
       "    .dataframe thead th {\n",
       "        text-align: right;\n",
       "    }\n",
       "</style>\n",
       "<table border=\"1\" class=\"dataframe\">\n",
       "  <thead>\n",
       "    <tr style=\"text-align: right;\">\n",
       "      <th></th>\n",
       "      <th>user_id</th>\n",
       "      <th>conversion</th>\n",
       "      <th>test</th>\n",
       "      <th>age</th>\n",
       "    </tr>\n",
       "  </thead>\n",
       "  <tbody>\n",
       "    <tr>\n",
       "      <th>count</th>\n",
       "      <td>453321.000000</td>\n",
       "      <td>453321.000000</td>\n",
       "      <td>453321.000000</td>\n",
       "      <td>452867.000000</td>\n",
       "    </tr>\n",
       "    <tr>\n",
       "      <th>mean</th>\n",
       "      <td>499937.514728</td>\n",
       "      <td>0.049579</td>\n",
       "      <td>0.476446</td>\n",
       "      <td>27.130740</td>\n",
       "    </tr>\n",
       "    <tr>\n",
       "      <th>std</th>\n",
       "      <td>288665.193436</td>\n",
       "      <td>0.217073</td>\n",
       "      <td>0.499445</td>\n",
       "      <td>6.776678</td>\n",
       "    </tr>\n",
       "    <tr>\n",
       "      <th>min</th>\n",
       "      <td>1.000000</td>\n",
       "      <td>0.000000</td>\n",
       "      <td>0.000000</td>\n",
       "      <td>18.000000</td>\n",
       "    </tr>\n",
       "    <tr>\n",
       "      <th>25%</th>\n",
       "      <td>249816.000000</td>\n",
       "      <td>0.000000</td>\n",
       "      <td>0.000000</td>\n",
       "      <td>22.000000</td>\n",
       "    </tr>\n",
       "    <tr>\n",
       "      <th>50%</th>\n",
       "      <td>500019.000000</td>\n",
       "      <td>0.000000</td>\n",
       "      <td>0.000000</td>\n",
       "      <td>26.000000</td>\n",
       "    </tr>\n",
       "    <tr>\n",
       "      <th>75%</th>\n",
       "      <td>749522.000000</td>\n",
       "      <td>0.000000</td>\n",
       "      <td>1.000000</td>\n",
       "      <td>31.000000</td>\n",
       "    </tr>\n",
       "    <tr>\n",
       "      <th>max</th>\n",
       "      <td>1000000.000000</td>\n",
       "      <td>1.000000</td>\n",
       "      <td>1.000000</td>\n",
       "      <td>70.000000</td>\n",
       "    </tr>\n",
       "  </tbody>\n",
       "</table>\n",
       "</div>"
      ],
      "text/plain": [
       "              user_id     conversion           test            age\n",
       "count   453321.000000  453321.000000  453321.000000  452867.000000\n",
       "mean    499937.514728       0.049579       0.476446      27.130740\n",
       "std     288665.193436       0.217073       0.499445       6.776678\n",
       "min          1.000000       0.000000       0.000000      18.000000\n",
       "25%     249816.000000       0.000000       0.000000      22.000000\n",
       "50%     500019.000000       0.000000       0.000000      26.000000\n",
       "75%     749522.000000       0.000000       1.000000      31.000000\n",
       "max    1000000.000000       1.000000       1.000000      70.000000"
      ]
     },
     "execution_count": 161,
     "metadata": {},
     "output_type": "execute_result"
    }
   ],
   "source": [
    "data.describe()"
   ]
  },
  {
   "cell_type": "code",
   "execution_count": 18,
   "metadata": {},
   "outputs": [
    {
     "name": "stdout",
     "output_type": "stream",
     "text": [
      "<class 'pandas.core.frame.DataFrame'>\n",
      "Int64Index: 452867 entries, 0 to 452866\n",
      "Data columns (total 12 columns):\n",
      "user_id             452867 non-null int64\n",
      "date                452867 non-null object\n",
      "source              452867 non-null object\n",
      "device              452867 non-null object\n",
      "browser_language    452867 non-null object\n",
      "ads_channel         181693 non-null object\n",
      "browser             452867 non-null object\n",
      "conversion          452867 non-null int64\n",
      "test                452867 non-null int64\n",
      "sex                 452867 non-null object\n",
      "age                 452867 non-null int64\n",
      "country             452867 non-null object\n",
      "dtypes: int64(4), object(8)\n",
      "memory usage: 44.9+ MB\n"
     ]
    }
   ],
   "source": [
    "data.info()"
   ]
  },
  {
   "cell_type": "markdown",
   "metadata": {},
   "source": [
    "### Check out the difference between control group and test group"
   ]
  },
  {
   "cell_type": "code",
   "execution_count": 27,
   "metadata": {},
   "outputs": [
    {
     "data": {
      "text/html": [
       "<div>\n",
       "<style scoped>\n",
       "    .dataframe tbody tr th:only-of-type {\n",
       "        vertical-align: middle;\n",
       "    }\n",
       "\n",
       "    .dataframe tbody tr th {\n",
       "        vertical-align: top;\n",
       "    }\n",
       "\n",
       "    .dataframe thead th {\n",
       "        text-align: right;\n",
       "    }\n",
       "</style>\n",
       "<table border=\"1\" class=\"dataframe\">\n",
       "  <thead>\n",
       "    <tr style=\"text-align: right;\">\n",
       "      <th></th>\n",
       "      <th>user_id</th>\n",
       "      <th>conversion</th>\n",
       "      <th>age</th>\n",
       "    </tr>\n",
       "    <tr>\n",
       "      <th>test</th>\n",
       "      <th></th>\n",
       "      <th></th>\n",
       "      <th></th>\n",
       "    </tr>\n",
       "  </thead>\n",
       "  <tbody>\n",
       "    <tr>\n",
       "      <th>0</th>\n",
       "      <td>500364.345278</td>\n",
       "      <td>0.055156</td>\n",
       "      <td>27.144850</td>\n",
       "    </tr>\n",
       "    <tr>\n",
       "      <th>1</th>\n",
       "      <td>499483.813462</td>\n",
       "      <td>0.043411</td>\n",
       "      <td>27.115236</td>\n",
       "    </tr>\n",
       "  </tbody>\n",
       "</table>\n",
       "</div>"
      ],
      "text/plain": [
       "            user_id  conversion        age\n",
       "test                                      \n",
       "0     500364.345278    0.055156  27.144850\n",
       "1     499483.813462    0.043411  27.115236"
      ]
     },
     "execution_count": 27,
     "metadata": {},
     "output_type": "execute_result"
    }
   ],
   "source": [
    "data.groupby('test').mean()"
   ]
  },
  {
   "cell_type": "code",
   "execution_count": 31,
   "metadata": {},
   "outputs": [
    {
     "name": "stdout",
     "output_type": "stream",
     "text": [
      "percentage of control is 52.35378157383956\n",
      "percentage of treatment is 47.646218426160445\n"
     ]
    }
   ],
   "source": [
    "count_control_rate=len(data[data['test']==0])/len(data)\n",
    "count_treatment_rate=len(data[data['test']==1])/len(data)\n",
    "print(\"percentage of control is\", count_control_rate*100)\n",
    "print(\"percentage of treatment is\", count_treatment_rate*100)"
   ]
  },
  {
   "cell_type": "code",
   "execution_count": 39,
   "metadata": {},
   "outputs": [
    {
     "data": {
      "image/png": "[encoded data removed]",
      "text/plain": [
       "<matplotlib.figure.Figure at 0x2e63f87ae10>"
      ]
     },
     "metadata": {},
     "output_type": "display_data"
    }
   ],
   "source": [
    "%matplotlib inline\n",
    "table=pd.crosstab(data.test,data.conversion)\n",
    "table.div(table.sum(1).astype(float), axis=0).plot(kind='bar', stacked=True)\n",
    "plt.title('Stacked Bar Chart of Conversion vs different group')\n",
    "plt.xlabel('Control & Test Group')\n",
    "plt.ylabel('proportion of Conversion')\n",
    "plt.savefig('Conversion proportion for different group')"
   ]
  },
  {
   "cell_type": "markdown",
   "metadata": {},
   "source": [
    "First, we make the hypothesis that there is no difference between the control and test group.\n",
    "\n",
    "Ho: Pexp-Pcont=0\n",
    "\n",
    "\n",
    "For compare two samples:\n",
    "\n",
    "p=(Xcont+Xexp)/(Ncont+Ntest)\n",
    "\n",
    "SEpool= sqrt(p*(1-p)*(1/Ncount+1/Ntest))\n",
    "\n",
    "d=Pexp-Pcont\n",
    "\n",
    "H0:d=0 where d∼N(0,SEpool)\n",
    "\n",
    "If d>1.96∗SEpool or d<−1.96∗SEpool then we can reject the null hypothesis and state that our difference represents a statistically significant difference\n",
    "\n"
   ]
  },
  {
   "cell_type": "code",
   "execution_count": 50,
   "metadata": {},
   "outputs": [
    {
     "data": {
      "text/html": [
       "<div>\n",
       "<style scoped>\n",
       "    .dataframe tbody tr th:only-of-type {\n",
       "        vertical-align: middle;\n",
       "    }\n",
       "\n",
       "    .dataframe tbody tr th {\n",
       "        vertical-align: top;\n",
       "    }\n",
       "\n",
       "    .dataframe thead th {\n",
       "        text-align: right;\n",
       "    }\n",
       "</style>\n",
       "<table border=\"1\" class=\"dataframe\">\n",
       "  <thead>\n",
       "    <tr style=\"text-align: right;\">\n",
       "      <th></th>\n",
       "      <th>user_id</th>\n",
       "      <th>conversion</th>\n",
       "      <th>age</th>\n",
       "    </tr>\n",
       "    <tr>\n",
       "      <th>test</th>\n",
       "      <th></th>\n",
       "      <th></th>\n",
       "      <th></th>\n",
       "    </tr>\n",
       "  </thead>\n",
       "  <tbody>\n",
       "    <tr>\n",
       "      <th>0</th>\n",
       "      <td>6568217566</td>\n",
       "      <td>13077</td>\n",
       "      <td>355159</td>\n",
       "    </tr>\n",
       "    <tr>\n",
       "      <th>1</th>\n",
       "      <td>4675711952</td>\n",
       "      <td>9367</td>\n",
       "      <td>253870</td>\n",
       "    </tr>\n",
       "  </tbody>\n",
       "</table>\n",
       "</div>"
      ],
      "text/plain": [
       "         user_id  conversion     age\n",
       "test                                \n",
       "0     6568217566       13077  355159\n",
       "1     4675711952        9367  253870"
      ]
     },
     "execution_count": 50,
     "metadata": {},
     "output_type": "execute_result"
    }
   ],
   "source": [
    "data[data['conversion']==1].groupby('test').sum()"
   ]
  },
  {
   "cell_type": "code",
   "execution_count": 51,
   "metadata": {},
   "outputs": [
    {
     "data": {
      "text/plain": [
       "237093"
      ]
     },
     "execution_count": 51,
     "metadata": {},
     "output_type": "execute_result"
    }
   ],
   "source": [
    "len(data[data['test']==0])"
   ]
  },
  {
   "cell_type": "code",
   "execution_count": 52,
   "metadata": {},
   "outputs": [
    {
     "data": {
      "text/plain": [
       "215774"
      ]
     },
     "execution_count": 52,
     "metadata": {},
     "output_type": "execute_result"
    }
   ],
   "source": [
    "len(data[data['test']==1])"
   ]
  },
  {
   "cell_type": "code",
   "execution_count": 55,
   "metadata": {},
   "outputs": [],
   "source": [
    "Xcont=13077\n",
    "Ncont=237093\n",
    "Xexp=9367\n",
    "Ntest=215774"
   ]
  },
  {
   "cell_type": "code",
   "execution_count": 66,
   "metadata": {},
   "outputs": [
    {
     "data": {
      "text/plain": [
       "-0.011744410185782393"
      ]
     },
     "execution_count": 66,
     "metadata": {},
     "output_type": "execute_result"
    }
   ],
   "source": [
    "from math import sqrt\n",
    "P=(Xcont+Xexp)/(Ncont+Ntest)\n",
    "Pcont=Xcont/Ncont\n",
    "Pexp=Xexp/Ntest\n",
    "SEpool=sqrt(P*(1-P)*(1/Ncont+1/Ntest))\n",
    "d=Pexp-Pcont\n",
    "d"
   ]
  },
  {
   "cell_type": "code",
   "execution_count": 67,
   "metadata": {},
   "outputs": [
    {
     "data": {
      "text/plain": [
       "-0.0012656384978395499"
      ]
     },
     "execution_count": 67,
     "metadata": {},
     "output_type": "execute_result"
    }
   ],
   "source": [
    "-1.96*SEpool"
   ]
  },
  {
   "cell_type": "markdown",
   "metadata": {},
   "source": [
    "As we can see, d< -1.96*SEpool, so it is significant to reject the null hypothesis. There are significant different between control group and test group. since the minimum confidence limit is smaller than 0 and the practical significance level of -0.01, we conclude that it is highly probable that click through probability is lower than 0.01 and is significant. Based on this, one would not launch the new version.\n",
    "\n",
    "Then we will go deep into the features and find out what causes this result."
   ]
  },
  {
   "cell_type": "markdown",
   "metadata": {},
   "source": [
    "### A/B Test\n"
   ]
  },
  {
   "cell_type": "markdown",
   "metadata": {},
   "source": [
    "It is true Spain converts much\n",
    "better than the rest of LatAm countries."
   ]
  },
  {
   "cell_type": "code",
   "execution_count": 176,
   "metadata": {
    "scrolled": true
   },
   "outputs": [
    {
     "data": {
      "image/png": "[encoded data removed]",
      "text/plain": [
       "<matplotlib.figure.Figure at 0x2e640825cc0>"
      ]
     },
     "metadata": {},
     "output_type": "display_data"
    }
   ],
   "source": [
    "conversion_groupby_country=data[data['test']==0][['conversion','country']].groupby('country').mean()\n",
    "conversion_groupby_country=conversion_groupby_country.reset_index() ##本来行名是country,列名是conversion.现在多了一列index,行是各个index,列是country和conversion\n",
    "conversion_groupby_country=conversion_groupby_country.sort_values('conversion')\n",
    "\n",
    "# Visualization\n",
    "fig,ax=plt.subplots(figsize=(18, 6))  ##ax:change the figure size\n",
    "sns.barplot(x='country', y='conversion', data=conversion_groupby_country,ax=ax)\n",
    "plt.show()"
   ]
  },
  {
   "cell_type": "code",
   "execution_count": 178,
   "metadata": {},
   "outputs": [
    {
     "data": {
      "image/png": "[encoded data removed]",
      "text/plain": [
       "<matplotlib.figure.Figure at 0x2e640aa4710>"
      ]
     },
     "metadata": {},
     "output_type": "display_data"
    }
   ],
   "source": [
    "fig,ax=plt.subplots(figsize=(18, 6)) \n",
    "sns.barplot(x='country', y='conversion', hue='test',data=data,ax=ax)\n",
    "plt.show()"
   ]
  },
  {
   "cell_type": "markdown",
   "metadata": {},
   "source": [
    "### Welch T Test\n",
    "Test/Control split is ~50/50.\n"
   ]
  },
  {
   "cell_type": "code",
   "execution_count": 182,
   "metadata": {},
   "outputs": [],
   "source": [
    "data_test=data.drop(data[data.country=='Spain'].index)\n",
    "#nothing changed in Spain, so no point in keeping those users"
   ]
  },
  {
   "cell_type": "code",
   "execution_count": 183,
   "metadata": {},
   "outputs": [],
   "source": [
    "control_group=data_test[(data_test['test']==0)]\n",
    "test_group=data_test[(data_test['test']==1)]"
   ]
  },
  {
   "cell_type": "markdown",
   "metadata": {},
   "source": [
    "Test the assumption of normality using the stats.shapiro(). Unfortunately, the output is not labeled. The first value in the tuple is the W test statistic, and the second value is the p-value."
   ]
  },
  {
   "cell_type": "code",
   "execution_count": 185,
   "metadata": {},
   "outputs": [
    {
     "name": "stdout",
     "output_type": "stream",
     "text": [
      "(0.21902984380722046, 0.0) (0.20420461893081665, 0.0)\n"
     ]
    }
   ],
   "source": [
    "from scipy import stats\n",
    "a=stats.shapiro(control_group['conversion'])\n",
    "b=stats.shapiro(test_group['conversion'])\n",
    "print(a,b)"
   ]
  },
  {
   "cell_type": "markdown",
   "metadata": {},
   "source": [
    "Neither of the variables of interest violates the assumption of normality so we can continue with our analysis plan."
   ]
  },
  {
   "cell_type": "code",
   "execution_count": 187,
   "metadata": {},
   "outputs": [
    {
     "data": {
      "text/plain": [
       "Ttest_indResult(statistic=7.3939374121344805, pvalue=1.4282994754055316e-13)"
      ]
     },
     "execution_count": 187,
     "metadata": {},
     "output_type": "execute_result"
    }
   ],
   "source": [
    "stats.ttest_ind(control_group['conversion'], test_group['conversion'], equal_var = False)"
   ]
  },
  {
   "cell_type": "markdown",
   "metadata": {},
   "source": [
    "The p-value is significant, therefore one can reject the null hypothesis in support of the alternative."
   ]
  },
  {
   "cell_type": "code",
   "execution_count": 193,
   "metadata": {},
   "outputs": [
    {
     "name": "stdout",
     "output_type": "stream",
     "text": [
      "\n",
      " Welch's t-test= 7.3939 \n",
      " p-value = 0.0000 \n",
      " Welch-Satterthwaite Degrees of Freedom= 385712.6056\n"
     ]
    }
   ],
   "source": [
    "def welch_ttest(x, y): \n",
    "    ## Welch-Satterthwaite Degrees of Freedom ##\n",
    "    dof = (x.var()/x.size + y.var()/y.size)**2 / ((x.var()/x.size)**2 / (x.size-1) + (y.var()/y.size)**2 / (y.size-1))\n",
    "   \n",
    "    t, p = stats.ttest_ind(x, y, equal_var = False)\n",
    "    \n",
    "    print(\"\\n\",\n",
    "          f\"Welch's t-test= {t:.4f}\", \"\\n\",\n",
    "          f\"p-value = {p:.4f}\", \"\\n\",\n",
    "          f\"Welch-Satterthwaite Degrees of Freedom= {dof:.4f}\"\n",
    "          )\n",
    "\n",
    "welch_ttest(control_group['conversion'], test_group['conversion'])"
   ]
  },
  {
   "cell_type": "code",
   "execution_count": 189,
   "metadata": {},
   "outputs": [
    {
     "data": {
      "text/plain": [
       "0.04833042316066309"
      ]
     },
     "execution_count": 189,
     "metadata": {},
     "output_type": "execute_result"
    }
   ],
   "source": [
    "control_group['conversion'].mean()"
   ]
  },
  {
   "cell_type": "code",
   "execution_count": 194,
   "metadata": {},
   "outputs": [
    {
     "data": {
      "text/plain": [
       "0.043424713982118966"
      ]
     },
     "execution_count": 194,
     "metadata": {},
     "output_type": "execute_result"
    }
   ],
   "source": [
    "test_group['conversion'].mean()"
   ]
  },
  {
   "cell_type": "markdown",
   "metadata": {},
   "source": [
    "in the test are converting at 4.8% while users in the test just at 4.3%. That’s a 10% ((4.8%-4.3%)/4.8%)\n",
    "which would be dramatic if it were true. The most likely reason for weird A/B test results are:\n",
    "1. We didn’t collect enough data.\n",
    "2. Some bias has been introduced in the experiment so that test/control people are not really random."
   ]
  },
  {
   "cell_type": "code",
   "execution_count": 218,
   "metadata": {},
   "outputs": [],
   "source": [
    "control=control_group['conversion'].groupby([control_group['date']]).mean()\n",
    "test=test_group['conversion'].groupby([test_group['date']]).mean()"
   ]
  },
  {
   "cell_type": "code",
   "execution_count": 217,
   "metadata": {},
   "outputs": [
    {
     "data": {
      "text/plain": [
       "[<matplotlib.lines.Line2D at 0x2e64012d668>]"
      ]
     },
     "execution_count": 217,
     "metadata": {},
     "output_type": "execute_result"
    },
    {
     "data": {
      "image/png": "[encoded data removed]",
      "text/plain": [
       "<matplotlib.figure.Figure at 0x2e640102e48>"
      ]
     },
     "metadata": {},
     "output_type": "display_data"
    }
   ],
   "source": [
    "import matplotlib.pyplot as plt\n",
    "plt.plot(np.sort(control_group['date'].unique()),control/test,'g-')\n"
   ]
  },
  {
   "cell_type": "markdown",
   "metadata": {},
   "source": [
    "From the plot, we notice a couple of things:\n",
    "1. Test has constantly been worse than control and there is relatively little variance across days. That\n",
    "probably means that we do have enough data, but there was some bias in the experiment set up.\n",
    "2. On a side note, we just ran it for 5 days. We should always run the test for at least 1 full week to\n",
    "capture weekly patterns, 2 weeks would be much better.\n",
    "\n",
    "Time to find out the bias! Likely, there is for some reason some segment of users more likely to end up in\n",
    "test or in control, this segment had a significantly above/below conversion rate and this affected the overall\n",
    "results.\n",
    "\n",
    "In an ideal world, the distribution of people in test and control for each segment should be the same. There\n",
    "are many ways to check this. One way is to build a decision tree where the variables are the user\n",
    "dimensions and the outcome variable is whether the user is in test or control. If the tree splits, it means\n",
    "that for given values of that variable you are more likely to end up in test or control. But this should be\n",
    "impossible! Therefore, if the randomization worked, the tree should not split at all (or at least not be able to\n",
    "separate the two classes well)."
   ]
  },
  {
   "cell_type": "markdown",
   "metadata": {},
   "source": [
    "#### Checking the missing value"
   ]
  },
  {
   "cell_type": "code",
   "execution_count": 40,
   "metadata": {},
   "outputs": [
    {
     "data": {
      "text/plain": [
       "True"
      ]
     },
     "execution_count": 40,
     "metadata": {},
     "output_type": "execute_result"
    }
   ],
   "source": [
    "data.isnull().values.any()"
   ]
  },
  {
   "cell_type": "code",
   "execution_count": 41,
   "metadata": {},
   "outputs": [
    {
     "data": {
      "text/plain": [
       "user_id                  0\n",
       "date                     0\n",
       "source                   0\n",
       "device                   0\n",
       "browser_language         0\n",
       "ads_channel         271174\n",
       "browser                  0\n",
       "conversion               0\n",
       "test                     0\n",
       "sex                      0\n",
       "age                      0\n",
       "country                  0\n",
       "dtype: int64"
      ]
     },
     "execution_count": 41,
     "metadata": {},
     "output_type": "execute_result"
    }
   ],
   "source": [
    "data.isnull().sum()"
   ]
  },
  {
   "cell_type": "markdown",
   "metadata": {},
   "source": [
    " There more than 50% null values over all data.\n",
    "I decide to take a look of this column and find out whether this feature is related to conversion rate or not."
   ]
  },
  {
   "cell_type": "code",
   "execution_count": 71,
   "metadata": {},
   "outputs": [
    {
     "data": {
      "text/html": [
       "<div>\n",
       "<style scoped>\n",
       "    .dataframe tbody tr th:only-of-type {\n",
       "        vertical-align: middle;\n",
       "    }\n",
       "\n",
       "    .dataframe tbody tr th {\n",
       "        vertical-align: top;\n",
       "    }\n",
       "\n",
       "    .dataframe thead th {\n",
       "        text-align: right;\n",
       "    }\n",
       "</style>\n",
       "<table border=\"1\" class=\"dataframe\">\n",
       "  <thead>\n",
       "    <tr style=\"text-align: right;\">\n",
       "      <th></th>\n",
       "      <th>user_id</th>\n",
       "      <th>conversion</th>\n",
       "      <th>test</th>\n",
       "      <th>age</th>\n",
       "    </tr>\n",
       "    <tr>\n",
       "      <th>ads_channel</th>\n",
       "      <th></th>\n",
       "      <th></th>\n",
       "      <th></th>\n",
       "      <th></th>\n",
       "    </tr>\n",
       "  </thead>\n",
       "  <tbody>\n",
       "    <tr>\n",
       "      <th>Bing</th>\n",
       "      <td>497464.977545</td>\n",
       "      <td>1.0</td>\n",
       "      <td>0.410180</td>\n",
       "      <td>27.214072</td>\n",
       "    </tr>\n",
       "    <tr>\n",
       "      <th>Facebook</th>\n",
       "      <td>502496.594922</td>\n",
       "      <td>1.0</td>\n",
       "      <td>0.415176</td>\n",
       "      <td>27.010098</td>\n",
       "    </tr>\n",
       "    <tr>\n",
       "      <th>Google</th>\n",
       "      <td>499439.550807</td>\n",
       "      <td>1.0</td>\n",
       "      <td>0.416019</td>\n",
       "      <td>27.113867</td>\n",
       "    </tr>\n",
       "    <tr>\n",
       "      <th>Other</th>\n",
       "      <td>499388.701087</td>\n",
       "      <td>1.0</td>\n",
       "      <td>0.396739</td>\n",
       "      <td>26.826087</td>\n",
       "    </tr>\n",
       "    <tr>\n",
       "      <th>Yahoo</th>\n",
       "      <td>502452.579405</td>\n",
       "      <td>1.0</td>\n",
       "      <td>0.424220</td>\n",
       "      <td>26.772299</td>\n",
       "    </tr>\n",
       "  </tbody>\n",
       "</table>\n",
       "</div>"
      ],
      "text/plain": [
       "                   user_id  conversion      test        age\n",
       "ads_channel                                                \n",
       "Bing         497464.977545         1.0  0.410180  27.214072\n",
       "Facebook     502496.594922         1.0  0.415176  27.010098\n",
       "Google       499439.550807         1.0  0.416019  27.113867\n",
       "Other        499388.701087         1.0  0.396739  26.826087\n",
       "Yahoo        502452.579405         1.0  0.424220  26.772299"
      ]
     },
     "execution_count": 71,
     "metadata": {},
     "output_type": "execute_result"
    }
   ],
   "source": [
    "data[data['conversion']==1].groupby('ads_channel').mean()"
   ]
  },
  {
   "cell_type": "markdown",
   "metadata": {},
   "source": [
    "The channel people used to log in site is not much difference in conversion. So we just delete this coulumn.\n"
   ]
  },
  {
   "cell_type": "markdown",
   "metadata": {},
   "source": [
    "### Explore Categorical Variables "
   ]
  },
  {
   "cell_type": "code",
   "execution_count": 72,
   "metadata": {},
   "outputs": [
    {
     "data": {
      "text/plain": [
       "test  ads_channel\n",
       "0     Bing           0.055013\n",
       "      Facebook       0.056698\n",
       "      Google         0.054680\n",
       "      Other          0.050158\n",
       "      Yahoo          0.055200\n",
       "1     Bing           0.042102\n",
       "      Facebook       0.044132\n",
       "      Google         0.042992\n",
       "      Other          0.037824\n",
       "      Yahoo          0.044914\n",
       "Name: conversion, dtype: float64"
      ]
     },
     "execution_count": 72,
     "metadata": {},
     "output_type": "execute_result"
    }
   ],
   "source": [
    "data['conversion'].groupby([data['test'], data['ads_channel']]).mean()"
   ]
  },
  {
   "cell_type": "code",
   "execution_count": 75,
   "metadata": {
    "scrolled": true
   },
   "outputs": [
    {
     "data": {
      "image/png": "[encoded data removed]",
      "text/plain": [
       "<matplotlib.figure.Figure at 0x2e63daae518>"
      ]
     },
     "metadata": {},
     "output_type": "display_data"
    }
   ],
   "source": [
    "table=pd.crosstab(data.source,data.conversion)\n",
    "table.div(table.sum(1).astype(float), axis=0).plot(kind='bar', stacked=True)\n",
    "plt.title('Stacked Bar Chart of scource vs Conversion')\n",
    "plt.xlabel('Scources')\n",
    "plt.ylabel('Proportion of Conversion')\n",
    "plt.savefig('scource vs Conversion')"
   ]
  },
  {
   "cell_type": "code",
   "execution_count": 78,
   "metadata": {},
   "outputs": [
    {
     "data": {
      "image/png": "[encoded data removed]",
      "text/plain": [
       "<matplotlib.figure.Figure at 0x2e63f8430b8>"
      ]
     },
     "metadata": {},
     "output_type": "display_data"
    }
   ],
   "source": [
    "table=pd.crosstab(data.device,data.conversion)\n",
    "table.div(table.sum(1).astype(float), axis=0).plot(kind='bar', stacked=True)\n",
    "plt.title('Stacked Bar Chart of Device vs Conversion')\n",
    "plt.xlabel('Device')\n",
    "plt.ylabel('Proportion of Conversion')\n",
    "plt.savefig('device vs Conversion')"
   ]
  },
  {
   "cell_type": "code",
   "execution_count": 76,
   "metadata": {},
   "outputs": [
    {
     "data": {
      "image/png": "[encoded data removed]",
      "text/plain": [
       "<matplotlib.figure.Figure at 0x2e63fa744a8>"
      ]
     },
     "metadata": {},
     "output_type": "display_data"
    }
   ],
   "source": [
    "data.age.hist()\n",
    "plt.title('Histogram of Age')\n",
    "plt.xlabel('Age')\n",
    "plt.ylabel('Frequency')\n",
    "plt.savefig('hist_age')"
   ]
  },
  {
   "cell_type": "markdown",
   "metadata": {},
   "source": [
    "Most of the customers of the site in this dataset are in the age range of 20-30"
   ]
  },
  {
   "cell_type": "code",
   "execution_count": 96,
   "metadata": {},
   "outputs": [
    {
     "data": {
      "text/html": [
       "<div>\n",
       "<style scoped>\n",
       "    .dataframe tbody tr th:only-of-type {\n",
       "        vertical-align: middle;\n",
       "    }\n",
       "\n",
       "    .dataframe tbody tr th {\n",
       "        vertical-align: top;\n",
       "    }\n",
       "\n",
       "    .dataframe thead th {\n",
       "        text-align: right;\n",
       "    }\n",
       "</style>\n",
       "<table border=\"1\" class=\"dataframe\">\n",
       "  <thead>\n",
       "    <tr style=\"text-align: right;\">\n",
       "      <th></th>\n",
       "      <th>user_id</th>\n",
       "      <th>date</th>\n",
       "      <th>source</th>\n",
       "      <th>device</th>\n",
       "      <th>browser_language</th>\n",
       "      <th>browser</th>\n",
       "      <th>conversion</th>\n",
       "      <th>sex</th>\n",
       "      <th>age</th>\n",
       "      <th>country</th>\n",
       "    </tr>\n",
       "  </thead>\n",
       "  <tbody>\n",
       "    <tr>\n",
       "      <th>0</th>\n",
       "      <td>315281</td>\n",
       "      <td>2015-12-03</td>\n",
       "      <td>Direct</td>\n",
       "      <td>Web</td>\n",
       "      <td>ES</td>\n",
       "      <td>IE</td>\n",
       "      <td>1</td>\n",
       "      <td>M</td>\n",
       "      <td>32</td>\n",
       "      <td>Spain</td>\n",
       "    </tr>\n",
       "    <tr>\n",
       "      <th>1</th>\n",
       "      <td>497851</td>\n",
       "      <td>2015-12-04</td>\n",
       "      <td>Ads</td>\n",
       "      <td>Web</td>\n",
       "      <td>ES</td>\n",
       "      <td>IE</td>\n",
       "      <td>0</td>\n",
       "      <td>M</td>\n",
       "      <td>21</td>\n",
       "      <td>Mexico</td>\n",
       "    </tr>\n",
       "    <tr>\n",
       "      <th>2</th>\n",
       "      <td>848402</td>\n",
       "      <td>2015-12-04</td>\n",
       "      <td>Ads</td>\n",
       "      <td>Web</td>\n",
       "      <td>ES</td>\n",
       "      <td>Chrome</td>\n",
       "      <td>0</td>\n",
       "      <td>M</td>\n",
       "      <td>34</td>\n",
       "      <td>Spain</td>\n",
       "    </tr>\n",
       "    <tr>\n",
       "      <th>3</th>\n",
       "      <td>290051</td>\n",
       "      <td>2015-12-03</td>\n",
       "      <td>Ads</td>\n",
       "      <td>Mobile</td>\n",
       "      <td>Other</td>\n",
       "      <td>Android_App</td>\n",
       "      <td>0</td>\n",
       "      <td>F</td>\n",
       "      <td>22</td>\n",
       "      <td>Mexico</td>\n",
       "    </tr>\n",
       "    <tr>\n",
       "      <th>4</th>\n",
       "      <td>548435</td>\n",
       "      <td>2015-11-30</td>\n",
       "      <td>Ads</td>\n",
       "      <td>Web</td>\n",
       "      <td>ES</td>\n",
       "      <td>FireFox</td>\n",
       "      <td>0</td>\n",
       "      <td>M</td>\n",
       "      <td>19</td>\n",
       "      <td>Mexico</td>\n",
       "    </tr>\n",
       "  </tbody>\n",
       "</table>\n",
       "</div>"
      ],
      "text/plain": [
       "   user_id        date  source  device browser_language      browser  \\\n",
       "0   315281  2015-12-03  Direct     Web               ES           IE   \n",
       "1   497851  2015-12-04     Ads     Web               ES           IE   \n",
       "2   848402  2015-12-04     Ads     Web               ES       Chrome   \n",
       "3   290051  2015-12-03     Ads  Mobile            Other  Android_App   \n",
       "4   548435  2015-11-30     Ads     Web               ES      FireFox   \n",
       "\n",
       "   conversion sex  age country  \n",
       "0           1   M   32   Spain  \n",
       "1           0   M   21  Mexico  \n",
       "2           0   M   34   Spain  \n",
       "3           0   F   22  Mexico  \n",
       "4           0   M   19  Mexico  "
      ]
     },
     "execution_count": 96,
     "metadata": {},
     "output_type": "execute_result"
    }
   ],
   "source": [
    "data.head()"
   ]
  },
  {
   "cell_type": "code",
   "execution_count": 97,
   "metadata": {},
   "outputs": [
    {
     "data": {
      "text/html": [
       "<div>\n",
       "<style scoped>\n",
       "    .dataframe tbody tr th:only-of-type {\n",
       "        vertical-align: middle;\n",
       "    }\n",
       "\n",
       "    .dataframe tbody tr th {\n",
       "        vertical-align: top;\n",
       "    }\n",
       "\n",
       "    .dataframe thead th {\n",
       "        text-align: right;\n",
       "    }\n",
       "</style>\n",
       "<table border=\"1\" class=\"dataframe\">\n",
       "  <thead>\n",
       "    <tr style=\"text-align: right;\">\n",
       "      <th></th>\n",
       "      <th>date</th>\n",
       "      <th>source</th>\n",
       "      <th>device</th>\n",
       "      <th>browser_language</th>\n",
       "      <th>browser</th>\n",
       "      <th>sex</th>\n",
       "      <th>country</th>\n",
       "    </tr>\n",
       "  </thead>\n",
       "  <tbody>\n",
       "    <tr>\n",
       "      <th>0</th>\n",
       "      <td>2015-12-03</td>\n",
       "      <td>Direct</td>\n",
       "      <td>Web</td>\n",
       "      <td>ES</td>\n",
       "      <td>IE</td>\n",
       "      <td>M</td>\n",
       "      <td>Spain</td>\n",
       "    </tr>\n",
       "    <tr>\n",
       "      <th>1</th>\n",
       "      <td>2015-12-04</td>\n",
       "      <td>Ads</td>\n",
       "      <td>Web</td>\n",
       "      <td>ES</td>\n",
       "      <td>IE</td>\n",
       "      <td>M</td>\n",
       "      <td>Mexico</td>\n",
       "    </tr>\n",
       "    <tr>\n",
       "      <th>2</th>\n",
       "      <td>2015-12-04</td>\n",
       "      <td>Ads</td>\n",
       "      <td>Web</td>\n",
       "      <td>ES</td>\n",
       "      <td>Chrome</td>\n",
       "      <td>M</td>\n",
       "      <td>Spain</td>\n",
       "    </tr>\n",
       "    <tr>\n",
       "      <th>3</th>\n",
       "      <td>2015-12-03</td>\n",
       "      <td>Ads</td>\n",
       "      <td>Mobile</td>\n",
       "      <td>Other</td>\n",
       "      <td>Android_App</td>\n",
       "      <td>F</td>\n",
       "      <td>Mexico</td>\n",
       "    </tr>\n",
       "    <tr>\n",
       "      <th>4</th>\n",
       "      <td>2015-11-30</td>\n",
       "      <td>Ads</td>\n",
       "      <td>Web</td>\n",
       "      <td>ES</td>\n",
       "      <td>FireFox</td>\n",
       "      <td>M</td>\n",
       "      <td>Mexico</td>\n",
       "    </tr>\n",
       "  </tbody>\n",
       "</table>\n",
       "</div>"
      ],
      "text/plain": [
       "         date  source  device browser_language      browser sex country\n",
       "0  2015-12-03  Direct     Web               ES           IE   M   Spain\n",
       "1  2015-12-04     Ads     Web               ES           IE   M  Mexico\n",
       "2  2015-12-04     Ads     Web               ES       Chrome   M   Spain\n",
       "3  2015-12-03     Ads  Mobile            Other  Android_App   F  Mexico\n",
       "4  2015-11-30     Ads     Web               ES      FireFox   M  Mexico"
      ]
     },
     "execution_count": 97,
     "metadata": {},
     "output_type": "execute_result"
    }
   ],
   "source": [
    "obj_df = data.select_dtypes(include=['object']).copy()\n",
    "obj_df.head()"
   ]
  },
  {
   "cell_type": "code",
   "execution_count": 98,
   "metadata": {},
   "outputs": [
    {
     "data": {
      "text/html": [
       "<div>\n",
       "<style scoped>\n",
       "    .dataframe tbody tr th:only-of-type {\n",
       "        vertical-align: middle;\n",
       "    }\n",
       "\n",
       "    .dataframe tbody tr th {\n",
       "        vertical-align: top;\n",
       "    }\n",
       "\n",
       "    .dataframe thead th {\n",
       "        text-align: right;\n",
       "    }\n",
       "</style>\n",
       "<table border=\"1\" class=\"dataframe\">\n",
       "  <thead>\n",
       "    <tr style=\"text-align: right;\">\n",
       "      <th></th>\n",
       "      <th>date</th>\n",
       "      <th>source</th>\n",
       "      <th>device</th>\n",
       "      <th>browser_language</th>\n",
       "      <th>browser</th>\n",
       "      <th>sex</th>\n",
       "      <th>country</th>\n",
       "    </tr>\n",
       "  </thead>\n",
       "  <tbody>\n",
       "  </tbody>\n",
       "</table>\n",
       "</div>"
      ],
      "text/plain": [
       "Empty DataFrame\n",
       "Columns: [date, source, device, browser_language, browser, sex, country]\n",
       "Index: []"
      ]
     },
     "execution_count": 98,
     "metadata": {},
     "output_type": "execute_result"
    }
   ],
   "source": [
    "obj_df[obj_df.isnull().any(axis=1)]"
   ]
  },
  {
   "cell_type": "code",
   "execution_count": 101,
   "metadata": {},
   "outputs": [
    {
     "data": {
      "text/html": [
       "<div>\n",
       "<style scoped>\n",
       "    .dataframe tbody tr th:only-of-type {\n",
       "        vertical-align: middle;\n",
       "    }\n",
       "\n",
       "    .dataframe tbody tr th {\n",
       "        vertical-align: top;\n",
       "    }\n",
       "\n",
       "    .dataframe thead th {\n",
       "        text-align: right;\n",
       "    }\n",
       "</style>\n",
       "<table border=\"1\" class=\"dataframe\">\n",
       "  <thead>\n",
       "    <tr style=\"text-align: right;\">\n",
       "      <th></th>\n",
       "      <th>user_id</th>\n",
       "      <th>date</th>\n",
       "      <th>source</th>\n",
       "      <th>device</th>\n",
       "      <th>browser_language</th>\n",
       "      <th>browser</th>\n",
       "      <th>conversion</th>\n",
       "      <th>sex</th>\n",
       "      <th>age</th>\n",
       "      <th>country</th>\n",
       "    </tr>\n",
       "  </thead>\n",
       "  <tbody>\n",
       "    <tr>\n",
       "      <th>0</th>\n",
       "      <td>142925</td>\n",
       "      <td>3</td>\n",
       "      <td>1</td>\n",
       "      <td>1</td>\n",
       "      <td>1</td>\n",
       "      <td>3</td>\n",
       "      <td>1</td>\n",
       "      <td>1</td>\n",
       "      <td>14</td>\n",
       "      <td>14</td>\n",
       "    </tr>\n",
       "    <tr>\n",
       "      <th>1</th>\n",
       "      <td>225446</td>\n",
       "      <td>4</td>\n",
       "      <td>0</td>\n",
       "      <td>1</td>\n",
       "      <td>1</td>\n",
       "      <td>3</td>\n",
       "      <td>0</td>\n",
       "      <td>1</td>\n",
       "      <td>3</td>\n",
       "      <td>9</td>\n",
       "    </tr>\n",
       "    <tr>\n",
       "      <th>2</th>\n",
       "      <td>384309</td>\n",
       "      <td>4</td>\n",
       "      <td>0</td>\n",
       "      <td>1</td>\n",
       "      <td>1</td>\n",
       "      <td>1</td>\n",
       "      <td>0</td>\n",
       "      <td>1</td>\n",
       "      <td>16</td>\n",
       "      <td>14</td>\n",
       "    </tr>\n",
       "    <tr>\n",
       "      <th>3</th>\n",
       "      <td>131463</td>\n",
       "      <td>3</td>\n",
       "      <td>0</td>\n",
       "      <td>0</td>\n",
       "      <td>2</td>\n",
       "      <td>0</td>\n",
       "      <td>0</td>\n",
       "      <td>0</td>\n",
       "      <td>4</td>\n",
       "      <td>9</td>\n",
       "    </tr>\n",
       "    <tr>\n",
       "      <th>4</th>\n",
       "      <td>248304</td>\n",
       "      <td>0</td>\n",
       "      <td>0</td>\n",
       "      <td>1</td>\n",
       "      <td>1</td>\n",
       "      <td>2</td>\n",
       "      <td>0</td>\n",
       "      <td>1</td>\n",
       "      <td>1</td>\n",
       "      <td>9</td>\n",
       "    </tr>\n",
       "  </tbody>\n",
       "</table>\n",
       "</div>"
      ],
      "text/plain": [
       "   user_id  date  source  device  browser_language  browser  conversion  sex  \\\n",
       "0   142925     3       1       1                 1        3           1    1   \n",
       "1   225446     4       0       1                 1        3           0    1   \n",
       "2   384309     4       0       1                 1        1           0    1   \n",
       "3   131463     3       0       0                 2        0           0    0   \n",
       "4   248304     0       0       1                 1        2           0    1   \n",
       "\n",
       "   age  country  \n",
       "0   14       14  \n",
       "1    3        9  \n",
       "2   16       14  \n",
       "3    4        9  \n",
       "4    1        9  "
      ]
     },
     "execution_count": 101,
     "metadata": {},
     "output_type": "execute_result"
    }
   ],
   "source": [
    "from sklearn.preprocessing import LabelEncoder\n",
    "labelencoder = LabelEncoder()\n",
    "data_encoded=data.apply(labelencoder.fit_transform)\n",
    "data_encoded.head()"
   ]
  },
  {
   "cell_type": "code",
   "execution_count": 103,
   "metadata": {},
   "outputs": [],
   "source": [
    "Y=data_encoded[['conversion']]"
   ]
  },
  {
   "cell_type": "code",
   "execution_count": 105,
   "metadata": {},
   "outputs": [],
   "source": [
    "X=data_encoded.loc[:,data_encoded.columns!='conversion']"
   ]
  },
  {
   "cell_type": "code",
   "execution_count": 116,
   "metadata": {},
   "outputs": [],
   "source": [
    "X_train, X_test, y_train, y_test = train_test_split(\n",
    "...     X, Y, test_size=0.3, random_state=42)"
   ]
  },
  {
   "cell_type": "code",
   "execution_count": 117,
   "metadata": {
    "scrolled": true
   },
   "outputs": [
    {
     "data": {
      "text/plain": [
       "RandomForestClassifier(bootstrap=True, class_weight=None, criterion='gini',\n",
       "            max_depth=None, max_features='auto', max_leaf_nodes=None,\n",
       "            min_impurity_decrease=0.0, min_impurity_split=None,\n",
       "            min_samples_leaf=1, min_samples_split=2,\n",
       "            min_weight_fraction_leaf=0.0, n_estimators=10, n_jobs=1,\n",
       "            oob_score=False, random_state=None, verbose=0,\n",
       "            warm_start=False)"
      ]
     },
     "execution_count": 117,
     "metadata": {},
     "output_type": "execute_result"
    }
   ],
   "source": [
    "from sklearn.ensemble import RandomForestClassifier\n",
    "model=RandomForestClassifier()\n",
    "model.fit(X_train, y_train)"
   ]
  },
  {
   "cell_type": "code",
   "execution_count": 132,
   "metadata": {},
   "outputs": [
    {
     "name": "stdout",
     "output_type": "stream",
     "text": [
      "name                   score\n",
      "user_id           0.599365\n",
      "age               0.162492\n",
      "country           0.076007\n",
      "date              0.0528182\n",
      "browser           0.0340244\n",
      "source            0.0308714\n",
      "sex               0.0206166\n",
      "browser_language  0.0175022\n",
      "device            0.00630317\n"
     ]
    }
   ],
   "source": [
    "from tabulate import tabulate\n",
    "headers = [\"name\", \"score\"]\n",
    "values = sorted(zip(X_train.columns, model.feature_importances_), key=lambda x: x[1] * -1)\n",
    "print(tabulate(values, headers, tablefmt=\"plain\"))\n",
    "\n",
    "\n"
   ]
  },
  {
   "cell_type": "markdown",
   "metadata": {},
   "source": [
    "From the features, we can see that countries is the most important feature for conversion.\n",
    "Now, let us check for each country:"
   ]
  },
  {
   "cell_type": "code",
   "execution_count": 224,
   "metadata": {},
   "outputs": [
    {
     "name": "stdout",
     "output_type": "stream",
     "text": [
      "Country               Test Rate    Control Rate    P-Value\n",
      "-----------------------------------------------------------------\n",
      "Spain                       nan         0.07972        nan\n",
      "Mexico                  0.05119         0.04949   0.165544\n",
      "Venezuela               0.04898         0.05034   0.573702\n",
      "Bolivia                 0.04790         0.04937   0.718885\n",
      "Colombia                0.05057         0.05209   0.423719\n",
      "Uruguay                 0.01291         0.01205   0.879764\n",
      "El Salvador             0.04795         0.05355   0.248127\n",
      "Nicaragua               0.05418         0.05265   0.780400\n",
      "Peru                    0.05060         0.04991   0.771953\n",
      "Costa Rica              0.05474         0.05226   0.687876\n",
      "Chile                   0.05130         0.04811   0.302848\n",
      "Argentina               0.01373         0.01507   0.335147\n",
      "Ecuador                 0.04899         0.04915   0.961512\n",
      "Guatemala               0.04865         0.05064   0.572107\n",
      "Honduras                0.04754         0.05091   0.471463\n",
      "Paraguay                0.04923         0.04849   0.883697\n",
      "Panama                  0.04937         0.04680   0.705327\n"
     ]
    }
   ],
   "source": [
    "countries = [name for name in data['country'].unique() if name is not np.nan]\n",
    "\n",
    "print('{0:15s} {1:>15s} {2:>15s} {3:>10s}'.format('Country', 'Test Rate', 'Control Rate', 'P-Value'))\n",
    "print('-' * 65)\n",
    "for country in countries:\n",
    "    test_val = data[(data['country'] == country) & (data['test'] == 1)]['conversion'].values\n",
    "    cont_val = data[(data['country'] == country) & (data['test'] == 0)]['conversion'].values\n",
    "    \n",
    "    test_mean = test_val.mean()\n",
    "    cont_mean = cont_val.mean()\n",
    "    p_val = stats.ttest_ind(test_val, cont_val, equal_var=False).pvalue\n",
    "    \n",
    "    print('{0:15s} {1:15.5f} {2:15.5f} {3:10f}'.format(country, test_mean, cont_mean, p_val))"
   ]
  },
  {
   "cell_type": "markdown",
   "metadata": {},
   "source": [
    "After we control for country, the test clearly appears non significant. Not a great success given that the\n",
    "goal was to improve conversion rate, but at least we know that a localized translation didn’t make things\n",
    "worse!"
   ]
  },
  {
   "cell_type": "code",
   "execution_count": 235,
   "metadata": {},
   "outputs": [
    {
     "name": "stdout",
     "output_type": "stream",
     "text": [
      "[[1, 2], [1, 3], [1, 4], [1, 5], [2, 3], [2, 4], [2, 5], [3, 4], [3, 5], [4, 5]]\n"
     ]
    }
   ],
   "source": [
    "import copy\n",
    "\n",
    "def combine(l, n): \n",
    "    answers = []\n",
    "    one = [0] * n \n",
    "    def next_c(li = 0, ni = 0): \n",
    "        if ni == n:\n",
    "            answers.append(copy.copy(one))\n",
    "            return\n",
    "        for lj in range(li, len(l)):\n",
    "            one[ni] = l[lj]\n",
    "            next_c(lj + 1, ni + 1)\n",
    "    next_c()\n",
    "    return answers\n",
    "\n",
    "print(combine([1, 2, 3, 4, 5], 2))"
   ]
  },
  {
   "cell_type": "code",
   "execution_count": 236,
   "metadata": {},
   "outputs": [
    {
     "name": "stdout",
     "output_type": "stream",
     "text": [
      "(1, 2, 3, 4, 5)\n",
      "(1, 2, 3, 5, 4)\n",
      "(1, 2, 4, 3, 5)\n",
      "(1, 2, 4, 5, 3)\n",
      "(1, 2, 5, 3, 4)\n",
      "(1, 2, 5, 4, 3)\n",
      "(1, 3, 2, 4, 5)\n",
      "(1, 3, 2, 5, 4)\n",
      "(1, 3, 4, 2, 5)\n",
      "(1, 3, 4, 5, 2)\n",
      "(1, 3, 5, 2, 4)\n",
      "(1, 3, 5, 4, 2)\n",
      "(1, 4, 2, 3, 5)\n",
      "(1, 4, 2, 5, 3)\n",
      "(1, 4, 3, 2, 5)\n",
      "(1, 4, 3, 5, 2)\n",
      "(1, 4, 5, 2, 3)\n",
      "(1, 4, 5, 3, 2)\n",
      "(1, 5, 2, 3, 4)\n",
      "(1, 5, 2, 4, 3)\n",
      "(1, 5, 3, 2, 4)\n",
      "(1, 5, 3, 4, 2)\n",
      "(1, 5, 4, 2, 3)\n",
      "(1, 5, 4, 3, 2)\n",
      "(2, 1, 3, 4, 5)\n",
      "(2, 1, 3, 5, 4)\n",
      "(2, 1, 4, 3, 5)\n",
      "(2, 1, 4, 5, 3)\n",
      "(2, 1, 5, 3, 4)\n",
      "(2, 1, 5, 4, 3)\n",
      "(2, 3, 1, 4, 5)\n",
      "(2, 3, 1, 5, 4)\n",
      "(2, 3, 4, 1, 5)\n",
      "(2, 3, 4, 5, 1)\n",
      "(2, 3, 5, 1, 4)\n",
      "(2, 3, 5, 4, 1)\n",
      "(2, 4, 1, 3, 5)\n",
      "(2, 4, 1, 5, 3)\n",
      "(2, 4, 3, 1, 5)\n",
      "(2, 4, 3, 5, 1)\n",
      "(2, 4, 5, 1, 3)\n",
      "(2, 4, 5, 3, 1)\n",
      "(2, 5, 1, 3, 4)\n",
      "(2, 5, 1, 4, 3)\n",
      "(2, 5, 3, 1, 4)\n",
      "(2, 5, 3, 4, 1)\n",
      "(2, 5, 4, 1, 3)\n",
      "(2, 5, 4, 3, 1)\n",
      "(3, 1, 2, 4, 5)\n",
      "(3, 1, 2, 5, 4)\n",
      "(3, 1, 4, 2, 5)\n",
      "(3, 1, 4, 5, 2)\n",
      "(3, 1, 5, 2, 4)\n",
      "(3, 1, 5, 4, 2)\n",
      "(3, 2, 1, 4, 5)\n",
      "(3, 2, 1, 5, 4)\n",
      "(3, 2, 4, 1, 5)\n",
      "(3, 2, 4, 5, 1)\n",
      "(3, 2, 5, 1, 4)\n",
      "(3, 2, 5, 4, 1)\n",
      "(3, 4, 1, 2, 5)\n",
      "(3, 4, 1, 5, 2)\n",
      "(3, 4, 2, 1, 5)\n",
      "(3, 4, 2, 5, 1)\n",
      "(3, 4, 5, 1, 2)\n",
      "(3, 4, 5, 2, 1)\n",
      "(3, 5, 1, 2, 4)\n",
      "(3, 5, 1, 4, 2)\n",
      "(3, 5, 2, 1, 4)\n",
      "(3, 5, 2, 4, 1)\n",
      "(3, 5, 4, 1, 2)\n",
      "(3, 5, 4, 2, 1)\n",
      "(4, 1, 2, 3, 5)\n",
      "(4, 1, 2, 5, 3)\n",
      "(4, 1, 3, 2, 5)\n",
      "(4, 1, 3, 5, 2)\n",
      "(4, 1, 5, 2, 3)\n",
      "(4, 1, 5, 3, 2)\n",
      "(4, 2, 1, 3, 5)\n",
      "(4, 2, 1, 5, 3)\n",
      "(4, 2, 3, 1, 5)\n",
      "(4, 2, 3, 5, 1)\n",
      "(4, 2, 5, 1, 3)\n",
      "(4, 2, 5, 3, 1)\n",
      "(4, 3, 1, 2, 5)\n",
      "(4, 3, 1, 5, 2)\n",
      "(4, 3, 2, 1, 5)\n",
      "(4, 3, 2, 5, 1)\n",
      "(4, 3, 5, 1, 2)\n",
      "(4, 3, 5, 2, 1)\n",
      "(4, 5, 1, 2, 3)\n",
      "(4, 5, 1, 3, 2)\n",
      "(4, 5, 2, 1, 3)\n",
      "(4, 5, 2, 3, 1)\n",
      "(4, 5, 3, 1, 2)\n",
      "(4, 5, 3, 2, 1)\n",
      "(5, 1, 2, 3, 4)\n",
      "(5, 1, 2, 4, 3)\n",
      "(5, 1, 3, 2, 4)\n",
      "(5, 1, 3, 4, 2)\n",
      "(5, 1, 4, 2, 3)\n",
      "(5, 1, 4, 3, 2)\n",
      "(5, 2, 1, 3, 4)\n",
      "(5, 2, 1, 4, 3)\n",
      "(5, 2, 3, 1, 4)\n",
      "(5, 2, 3, 4, 1)\n",
      "(5, 2, 4, 1, 3)\n",
      "(5, 2, 4, 3, 1)\n",
      "(5, 3, 1, 2, 4)\n",
      "(5, 3, 1, 4, 2)\n",
      "(5, 3, 2, 1, 4)\n",
      "(5, 3, 2, 4, 1)\n",
      "(5, 3, 4, 1, 2)\n",
      "(5, 3, 4, 2, 1)\n",
      "(5, 4, 1, 2, 3)\n",
      "(5, 4, 1, 3, 2)\n",
      "(5, 4, 2, 1, 3)\n",
      "(5, 4, 2, 3, 1)\n",
      "(5, 4, 3, 1, 2)\n",
      "(5, 4, 3, 2, 1)\n"
     ]
    }
   ],
   "source": [
    "import itertools\n",
    "nums = itertools.permutations([1,2,3,4,5])\n",
    "for x in  nums:\n",
    "    print(x)"
   ]
  },
  {
   "cell_type": "code",
   "execution_count": null,
   "metadata": {},
   "outputs": [],
   "source": []
  }
 ],
 "metadata": {
  "kernelspec": {
   "display_name": "Python 3",
   "language": "python",
   "name": "python3"
  },
  "language_info": {
   "codemirror_mode": {
    "name": "ipython",
    "version": 3
   },
   "file_extension": ".py",
   "mimetype": "text/x-python",
   "name": "python",
   "nbconvert_exporter": "python",
   "pygments_lexer": "ipython3",
   "version": "3.6.4"
  }
 },
 "nbformat": 4,
 "nbformat_minor": 2
}
